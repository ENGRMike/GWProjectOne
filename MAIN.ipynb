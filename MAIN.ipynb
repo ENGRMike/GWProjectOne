{
 "cells": [
  {
   "cell_type": "code",
   "execution_count": null,
   "metadata": {},
   "outputs": [],
   "source": [
    "#imports\n",
    "import numpy as np\n",
    "import pandas as pd\n",
    "import seaborn as sns\n",
    "import matplotlib.pyplot as plt"
   ]
  },
  {
   "cell_type": "code",
   "execution_count": null,
   "metadata": {
    "collapsed": true
   },
   "outputs": [],
   "source": [
    "wine_data = pd.read_csv('winemag-data-130k-v2.csv')\n",
    "\n",
    "#wines we are searching for\n",
    "white_wines = ['Riesling','Sauvignon Blanc','White Blend','Chardonnay']\n",
    "red_wines = ['Merlot', 'Sangiovese', 'Red Blend', 'Pinot Noir']"
   ]
  },
  {
   "cell_type": "code",
   "execution_count": null,
   "metadata": {},
   "outputs": [],
   "source": [
    "white_data = wine_data.loc[wine_data['variety'].isin(white_wines)]\n",
    "red_data = wine_data.loc[wine_data['variety'].isin(red_wines)]\n",
    "top_range = 95\n",
    "\n",
    "top_white_wines = white_data[white_data['points'] >= top_range]\n",
    "top_red_wines = red_data[red_data['points'] >= top_range]\n",
    "top_wines = wine_data[wine_data['points'] >= top_range]"
   ]
  },
  {
   "cell_type": "code",
   "execution_count": null,
   "metadata": {},
   "outputs": [],
   "source": [
    "sns.lmplot(x='price',y='points', data = white_data, hue = 'variety', fit_reg = False, scatter_kws={'alpha':0.6}, legend=False)\n",
    "plt.legend(loc='upper right')\n",
    "plt.title('White Wine Rating vs. Price')\n",
    "plt.savefig('White_Wines.png', bbox_inches='tight')\n",
    "plt.clf()"
   ]
  },
  {
   "cell_type": "code",
   "execution_count": null,
   "metadata": {},
   "outputs": [],
   "source": [
    "sns.lmplot(x='price',y='points', data = red_data, hue = 'variety', fit_reg = False, scatter_kws={'alpha':0.6}, legend=False)\n",
    "plt.legend(loc='lower right')\n",
    "plt.title('Red Wine Rating vs. Price')\n",
    "plt.savefig('Red_Wines.png', bbox_inches='tight')\n",
    "plt.clf()"
   ]
  },
  {
   "cell_type": "code",
   "execution_count": null,
   "metadata": {},
   "outputs": [],
   "source": [
    "top_white_plot = sns.stripplot(x='country', y = 'points', data = top_white_wines, jitter = True)\n",
    "top_white_plot.set_title('White Wine Quality vs. Country')\n",
    "top_white_plot.set_xticklabels(top_white_plot.get_xticklabels(), rotation = 90)\n",
    "plt.savefig('White_points_Country.png', bbox_inches='tight')\n",
    "plt.clf()"
   ]
  },
  {
   "cell_type": "code",
   "execution_count": null,
   "metadata": {
    "collapsed": true
   },
   "outputs": [],
   "source": [
    "price_white_plot = sns.stripplot(x='country', y = 'price', data = top_white_wines)\n",
    "price_white_plot.set_title('White Wine Price vs. Country')\n",
    "price_white_plot.set_xticklabels(price_white_plot.get_xticklabels(), rotation = 90)\n",
    "plt.savefig('White_price_Country.png', bbox_inches='tight')\n",
    "plt.clf()"
   ]
  },
  {
   "cell_type": "code",
   "execution_count": null,
   "metadata": {
    "collapsed": true
   },
   "outputs": [],
   "source": [
    "top_red_plot = sns.stripplot(x='country', y = 'points', data = top_red_wines, jitter = True)\n",
    "top_red_plot.set_title('Red Wine Quality vs. Country')\n",
    "top_red_plot.set_xticklabels(top_red_plot.get_xticklabels(), rotation = 90)\n",
    "plt.savefig('Red_points_Country.png', bbox_inches='tight')\n",
    "plt.clf()"
   ]
  },
  {
   "cell_type": "code",
   "execution_count": null,
   "metadata": {
    "collapsed": true
   },
   "outputs": [],
   "source": [
    "price_red_plot = sns.stripplot(x='country', y = 'price', data = top_red_wines)\n",
    "price_red_plot.set_title('Red Wine Price vs. Country')\n",
    "price_red_plot.set_xticklabels(price_red_plot.get_xticklabels(), rotation = 90)\n",
    "plt.savefig('red_price_Country.png', bbox_inches='tight')\n",
    "plt.clf()"
   ]
  },
  {
   "cell_type": "code",
   "execution_count": null,
   "metadata": {
    "collapsed": true
   },
   "outputs": [],
   "source": [
    "top_countries_plot = sns.countplot(x='country', data = top_wines)\n",
    "top_countries_plot.set_xticklabels(top_countries_plot.get_xticklabels(), rotation = 90)\n",
    "top_countries_plot.set_title(f'Total Wines rated over {top_range} per country')\n",
    "plt.savefig('top_countries.png', bbox_inches='tight')"
   ]
  },
  {
   "cell_type": "code",
   "execution_count": null,
   "metadata": {
    "collapsed": true
   },
   "outputs": [],
   "source": [
    "#Prolific Wines\n",
    "prolific_wineries_df = wine_data.loc[:,[\"title\", \"price\", \"points\", \"winery\", \"variety\"]]\n",
    "prolific_wineries_df.head()"
   ]
  },
  {
   "cell_type": "code",
   "execution_count": null,
   "metadata": {
    "collapsed": true
   },
   "outputs": [],
   "source": [
    "#List of the most prolific wineries\n",
    "prolific_wineries = pd.DataFrame(prolific_wineries_df.winery.value_counts())\n",
    "prolific_wineries.head()"
   ]
  },
  {
   "cell_type": "code",
   "execution_count": null,
   "metadata": {
    "collapsed": true
   },
   "outputs": [],
   "source": [
    "#Average Rating of wines at Wines & Winemakers\n",
    "prolific_wineries_ww = prolific_wineries_df.loc[prolific_wineries_df[\"winery\"] == \"Wines & Winemakers\", ['points']]\n",
    "avg_ww_rating = prolific_wineries_ww.points.mean()\n",
    "ww_rating = round(avg_ww_rating,3)\n",
    "ww_rating"
   ]
  },
  {
   "cell_type": "code",
   "execution_count": null,
   "metadata": {
    "collapsed": true
   },
   "outputs": [],
   "source": [
    "#Average Price of wines at Wines & Winemakers\n",
    "prolific_wineries_ww = prolific_wineries_df.loc[prolific_wineries_df[\"winery\"] == \"Wines & Winemakers\", ['price']]\n",
    "avg_ww_price = prolific_wineries_ww.price.mean()\n",
    "ww_price = round(avg_ww_price,3)\n",
    "ww_price"
   ]
  },
  {
   "cell_type": "code",
   "execution_count": null,
   "metadata": {
    "collapsed": true
   },
   "outputs": [],
   "source": [
    "#Average rating of wine in original data set\n",
    "wine = wineries_df.points.mean()\n",
    "wine_avg_rating = round(wine,3)\n",
    "wine_avg_rating"
   ]
  },
  {
   "cell_type": "code",
   "execution_count": null,
   "metadata": {
    "collapsed": true
   },
   "outputs": [],
   "source": [
    "#Average price of wine in orginial data set\n",
    "wine_price = wineries_df.price.mean()\n",
    "wine_avg_price = round(wine_price,3)\n",
    "wine_avg_price"
   ]
  },
  {
   "cell_type": "code",
   "execution_count": null,
   "metadata": {
    "collapsed": true
   },
   "outputs": [],
   "source": [
    "#Most variations of wine at Wines & winemakers\n",
    "ww = prolific_wineries_df.loc[prolific_wineries_df[\"winery\"] == \"Wines & Winemakers\", ['variety']]\n",
    "ww_df = pd.DataFrame(ww.variety.value_counts())\n",
    "ww_df"
   ]
  },
  {
   "cell_type": "code",
   "execution_count": null,
   "metadata": {
    "collapsed": true
   },
   "outputs": [],
   "source": [
    "pr = wineries_df.loc[wineries_df[\"variety\"] == \"Portuguese Red\"]\n",
    "#Average rating of Portuguese Red at Wine & winemakers\n",
    "p_red = pr.points.mean()\n",
    "port_red = round(p_red,3)\n",
    "port_red"
   ]
  },
  {
   "cell_type": "code",
   "execution_count": null,
   "metadata": {
    "collapsed": true
   },
   "outputs": [],
   "source": [
    "#Average rating of Portuguese Red at Wine \n",
    "pred = pr.price.mean()\n",
    "port_red_avg_price = round(pred,3)\n",
    "port_red_avg_price"
   ]
  },
  {
   "cell_type": "code",
   "execution_count": null,
   "metadata": {
    "collapsed": true
   },
   "outputs": [],
   "source": [
    "# bougiest white wines (by points and price)\n",
    "whites_bougiest = whites_df.groupby(['country'])['points', 'price'].max()\n",
    "whites_b_sorted = whites_bougiest.sort_values('points', ascending = False)\n",
    "# bougiest red wines (by points and price)\n",
    "reds_bougiest = reds_df.groupby(['country'])['points', 'price'].max()\n",
    "reds_b_sorted = reds_bougiest.sort_values('points', ascending = False)\n",
    "bougiest_wines = whites_b_sorted.merge(reds_b_sorted, on='country')\n",
    "bougiest_wines.head()\n",
    "#rename columns\n",
    "bougiest_wines = bougiest_wines.rename(columns={'points': 'White Wine points', 'price': 'Red Wine price', '’})\n",
    "bougiest_wines.head                                                "
   ]
  },
  {
   "cell_type": "code",
   "execution_count": null,
   "metadata": {
    "collapsed": true
   },
   "outputs": [],
   "source": [
    "import tweepy\n",
    "                                                \n",
    "from vaderSentiment.vaderSentiment import SentimentIntensityAnalyzer\n",
    "analyzer = SentimentIntensityAnalyzer()                                     \n",
    "from config import (consumer_key, consumer_secret, access_token, access_token_secret)"
   ]
  },
  {
   "cell_type": "code",
   "execution_count": null,
   "metadata": {
    "collapsed": true
   },
   "outputs": [],
   "source": [
    "auth = tweepy.OAuthHandler(consumer_key, consumer_secret)\n",
    "auth.set_access_token(access_token, access_token_secret)\n",
    "api = tweepy.API(auth, parser=tweepy.parsers.JSONParser())"
   ]
  },
  {
   "cell_type": "code",
   "execution_count": null,
   "metadata": {
    "collapsed": true
   },
   "outputs": [],
   "source": [
    "both = ['Riesling', 'White Blend', 'Chardonnay', 'Sauvignon Blanc', 'Merlot', 'Sangiovese', 'Red Blend', 'Pinot Noir']\n",
    "\n",
    "df = pd.read_csv('../../gw/Project_1/winemag-data-130k-v2.csv')\n",
    "df = df.drop(columns=['Unnamed: 0'])\n",
    "df = df.dropna(axis=0, how='any')\n",
    "df = df[['points', 'taster', 'twitter handle']]\n",
    "df = df.loc[df['variety'].isin(both)]\n",
    "df.head()"
   ]
  },
  {
   "cell_type": "code",
   "execution_count": null,
   "metadata": {
    "collapsed": true
   },
   "outputs": [],
   "source": [
    "# find tasters with over 1000 reviews\n",
    "taster_counts = pd.DataFrame(df['taster'].value_counts())\n",
    "taster_counts = taster_counts.reset_index()\n",
    "taster_counts = taster_counts.rename(columns={'taster':'ratings', 'index':'taster'})\n",
    "taster_counts_over_1000 = taster_counts.loc[taster_counts['ratings'] > 1000]\n",
    "tasters = taster_counts_over_1000['taster'].tolist()\n",
    "tasters.sort()"
   ]
  },
  {
   "cell_type": "code",
   "execution_count": null,
   "metadata": {
    "collapsed": true
   },
   "outputs": [],
   "source": [
    "# find tasters' corresponding twitter handles\n",
    "handle_df = df.set_index('taster')\n",
    "target_users = pd.DataFrame(handle_df.loc[tasters, 'twitter handle'])\n",
    "target_users = target_users['twitter handle'].unique()\n",
    "target_users = pd.Series(target_users).str.replace(u'\\xa0', u'') "
   ]
  },
  {
   "cell_type": "code",
   "execution_count": null,
   "metadata": {
    "collapsed": true
   },
   "outputs": [],
   "source": [
    "# find averages for tasters with over 1000 reviews\n",
    "ave_ratings = []\n",
    "for taster in tasters:\n",
    "    test_df = df.loc[df['taster'] == taster]\n",
    "    test_rating = test_df['points'].mean()\n",
    "    results_list = {'taster': taster, 'average rating': test_rating}\n",
    "    ave_ratings.append(results_list)\n",
    "ave_ratings_df = pd.DataFrame(ave_ratings).round(3)\n",
    "ave_ratings_df = ave_ratings_df[['taster', 'average rating']]\n",
    "ave_ratings_df['twitter handle'] = target_users\n",
    "ave_ratings_df"
   ]
  },
  {
   "cell_type": "code",
   "execution_count": null,
   "metadata": {
    "collapsed": true
   },
   "outputs": [],
   "source": [
    "# bar chart for average points per taster\n",
    "x_axis = np.arange(len(tasters))\n",
    "plt.bar(ave_ratings_df['taster'], ave_ratings_df['average rating'])\n",
    "plt.xticks(rotation = 'vertical')\n",
    "plt.title('Average Rating Per Taster')\n",
    "plt.xlabel('Taster')\n",
    "plt.ylabel('Average Rating')\n",
    "plt.show()"
   ]
  },
  {
   "cell_type": "code",
   "execution_count": null,
   "metadata": {
    "collapsed": true
   },
   "outputs": [],
   "source": [
    "# sentiment analysis\n",
    "overall_compound = []\n",
    "\n",
    "for user in target_users:\n",
    "    compound_list = []\n",
    "    \n",
    "    for x in range(1):\n",
    "        public_tweets = api.user_timeline(user, page = 1)\n",
    "\n",
    "        for tweet in public_tweets:\n",
    "            results = analyzer.polarity_scores(tweet['text'])\n",
    "            compound_list.append(results['compound'])\n",
    "    \n",
    "    compound_results = {'username': user, 'compound': np.mean(compound_list)}\n",
    "    overall_compound.append(compound_results)\n",
    "\n",
    "sentiment_df = pd.DataFrame(overall_compound).round(3)\n",
    "sentiment_df['taster'] = tasters\n",
    "sentiment_df['average rating'] = ave_ratings_df['average rating']\n",
    "sentiment_df = sentiment_df[['taster', 'username', 'compound', 'average rating']]\n",
    "sentiment_df"
   ]
  },
  {
   "cell_type": "code",
   "execution_count": null,
   "metadata": {
    "collapsed": true
   },
   "outputs": [],
   "source": [
    "#compound vs. average points (scatter)\n",
    "plt.figure(figsize=(10,6))\n",
    "plt.scatter(sentiment_df['compound'], sentiment_df['average rating'])\n",
    "plt.grid()\n",
    "plt.title('Average Rating for Tasters (with over 1000 reviews) Based on Sentiment Analysis')\n",
    "plt.xlabel('Tweet Polarity')\n",
    "plt.ylabel('Average Rating')\n",
    "plt.show()"
   ]
  },
  {
   "cell_type": "code",
   "execution_count": null,
   "metadata": {
    "collapsed": true
   },
   "outputs": [],
   "source": []
  }
 ],
 "metadata": {
  "kernelspec": {
   "display_name": "Python 3",
   "language": "python",
   "name": "python3"
  },
  "language_info": {
   "codemirror_mode": {
    "name": "ipython",
    "version": 3
   },
   "file_extension": ".py",
   "mimetype": "text/x-python",
   "name": "python",
   "nbconvert_exporter": "python",
   "pygments_lexer": "ipython3",
   "version": "3.6.3"
  }
 },
 "nbformat": 4,
 "nbformat_minor": 2
}
