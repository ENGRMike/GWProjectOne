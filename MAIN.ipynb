{
 "cells": [
  {
   "cell_type": "code",
   "execution_count": 2,
   "metadata": {},
   "outputs": [],
   "source": [
    "#imports\n",
    "import numpy as np\n",
    "import pandas as pd\n",
    "import seaborn as sns\n",
    "import matplotlib.pyplot as plt"
   ]
  },
  {
   "cell_type": "code",
   "execution_count": 4,
   "metadata": {},
   "outputs": [],
   "source": [
    "wine_data = pd.read_csv('../../gw/Project_1/winemag-data-130k-v2.csv')\n",
    "\n",
    "#wines we are searching for\n",
    "white_wines = ['Riesling','Sauvignon Blanc','White Blend','Chardonnay']\n",
    "red_wines = ['Merlot', 'Sangiovese', 'Red Blend', 'Pinot Noir']"
   ]
  },
  {
   "cell_type": "code",
   "execution_count": 5,
   "metadata": {},
   "outputs": [],
   "source": [
    "white_data = wine_data.loc[wine_data['variety'].isin(white_wines)]\n",
    "red_data = wine_data.loc[wine_data['variety'].isin(red_wines)]\n",
    "top_range = 95\n",
    "\n",
    "top_white_wines = white_data[white_data['points'] >= top_range]\n",
    "top_red_wines = red_data[red_data['points'] >= top_range]\n",
    "top_wines = wine_data[wine_data['points'] >= top_range]"
   ]
  },
  {
   "cell_type": "code",
   "execution_count": 6,
   "metadata": {},
   "outputs": [
    {
     "data": {
      "text/plain": [
       "<matplotlib.figure.Figure at 0x15cba857358>"
      ]
     },
     "metadata": {},
     "output_type": "display_data"
    }
   ],
   "source": [
    "sns.lmplot(x='price',y='points', data = white_data, hue = 'variety', fit_reg = False, scatter_kws={'alpha':0.6}, legend=False)\n",
    "plt.legend(loc='upper right')\n",
    "plt.title('White Wine Rating vs. Price')\n",
    "plt.savefig('White_Wines.png', bbox_inches='tight')\n",
    "plt.clf()"
   ]
  },
  {
   "cell_type": "code",
   "execution_count": 7,
   "metadata": {},
   "outputs": [
    {
     "data": {
      "text/plain": [
       "<matplotlib.figure.Figure at 0x15cc1fa0518>"
      ]
     },
     "metadata": {},
     "output_type": "display_data"
    }
   ],
   "source": [
    "sns.lmplot(x='price',y='points', data = red_data, hue = 'variety', fit_reg = False, scatter_kws={'alpha':0.6}, legend=False)\n",
    "plt.legend(loc='lower right')\n",
    "plt.title('Red Wine Rating vs. Price')\n",
    "plt.savefig('Red_Wines.png', bbox_inches='tight')\n",
    "plt.clf()"
   ]
  },
  {
   "cell_type": "code",
   "execution_count": 8,
   "metadata": {},
   "outputs": [
    {
     "data": {
      "text/plain": [
       "<matplotlib.figure.Figure at 0x15cc915a160>"
      ]
     },
     "metadata": {},
     "output_type": "display_data"
    }
   ],
   "source": [
    "top_white_plot = sns.stripplot(x='country', y = 'points', data = top_white_wines, jitter = True)\n",
    "top_white_plot.set_title('White Wine Quality vs. Country')\n",
    "top_white_plot.set_xticklabels(top_white_plot.get_xticklabels(), rotation = 90)\n",
    "plt.savefig('White_points_Country.png', bbox_inches='tight')\n",
    "plt.clf()"
   ]
  },
  {
   "cell_type": "code",
   "execution_count": 9,
   "metadata": {},
   "outputs": [
    {
     "data": {
      "text/plain": [
       "<matplotlib.figure.Figure at 0x15cc1ff9cf8>"
      ]
     },
     "metadata": {},
     "output_type": "display_data"
    }
   ],
   "source": [
    "price_white_plot = sns.stripplot(x='country', y = 'price', data = top_white_wines)\n",
    "price_white_plot.set_title('White Wine Price vs. Country')\n",
    "price_white_plot.set_xticklabels(price_white_plot.get_xticklabels(), rotation = 90)\n",
    "plt.savefig('White_price_Country.png', bbox_inches='tight')\n",
    "plt.clf()"
   ]
  },
  {
   "cell_type": "code",
   "execution_count": 10,
   "metadata": {},
   "outputs": [
    {
     "data": {
      "text/plain": [
       "<matplotlib.figure.Figure at 0x15cc20142b0>"
      ]
     },
     "metadata": {},
     "output_type": "display_data"
    }
   ],
   "source": [
    "top_red_plot = sns.stripplot(x='country', y = 'points', data = top_red_wines, jitter = True)\n",
    "top_red_plot.set_title('Red Wine Quality vs. Country')\n",
    "top_red_plot.set_xticklabels(top_red_plot.get_xticklabels(), rotation = 90)\n",
    "plt.savefig('Red_points_Country.png', bbox_inches='tight')\n",
    "plt.clf()"
   ]
  },
  {
   "cell_type": "code",
   "execution_count": 11,
   "metadata": {},
   "outputs": [
    {
     "data": {
      "text/plain": [
       "<matplotlib.figure.Figure at 0x15cc235b320>"
      ]
     },
     "metadata": {},
     "output_type": "display_data"
    }
   ],
   "source": [
    "price_red_plot = sns.stripplot(x='country', y = 'price', data = top_red_wines)\n",
    "price_red_plot.set_title('Red Wine Price vs. Country')\n",
    "price_red_plot.set_xticklabels(price_red_plot.get_xticklabels(), rotation = 90)\n",
    "plt.savefig('red_price_Country.png', bbox_inches='tight')\n",
    "plt.clf()"
   ]
  },
  {
   "cell_type": "code",
   "execution_count": 12,
   "metadata": {},
   "outputs": [
    {
     "data": {
      "image/png": "[encoded data removed]",
      "text/plain": [
       "<matplotlib.figure.Figure at 0x15cc230c780>"
      ]
     },
     "metadata": {},
     "output_type": "display_data"
    }
   ],
   "source": [
    "top_countries_plot = sns.countplot(x='country', data = top_wines)\n",
    "top_countries_plot.set_xticklabels(top_countries_plot.get_xticklabels(), rotation = 90)\n",
    "top_countries_plot.set_title(f'Total Wines rated over {top_range} per country')\n",
    "plt.savefig('top_countries.png', bbox_inches='tight')"
   ]
  },
  {
   "cell_type": "code",
   "execution_count": 13,
   "metadata": {},
   "outputs": [
    {
     "data": {
      "text/html": [
       "<div>\n",
       "<style scoped>\n",
       "    .dataframe tbody tr th:only-of-type {\n",
       "        vertical-align: middle;\n",
       "    }\n",
       "\n",
       "    .dataframe tbody tr th {\n",
       "        vertical-align: top;\n",
       "    }\n",
       "\n",
       "    .dataframe thead th {\n",
       "        text-align: right;\n",
       "    }\n",
       "</style>\n",
       "<table border=\"1\" class=\"dataframe\">\n",
       "  <thead>\n",
       "    <tr style=\"text-align: right;\">\n",
       "      <th></th>\n",
       "      <th>title</th>\n",
       "      <th>price</th>\n",
       "      <th>points</th>\n",
       "      <th>winery</th>\n",
       "      <th>variety</th>\n",
       "    </tr>\n",
       "  </thead>\n",
       "  <tbody>\n",
       "    <tr>\n",
       "      <th>0</th>\n",
       "      <td>Nicosia 2013 Vulkà Bianco  (Etna)</td>\n",
       "      <td>NaN</td>\n",
       "      <td>87</td>\n",
       "      <td>Nicosia</td>\n",
       "      <td>White Blend</td>\n",
       "    </tr>\n",
       "    <tr>\n",
       "      <th>1</th>\n",
       "      <td>Quinta dos Avidagos 2011 Avidagos Red (Douro)</td>\n",
       "      <td>15.0</td>\n",
       "      <td>87</td>\n",
       "      <td>Quinta dos Avidagos</td>\n",
       "      <td>Portuguese Red</td>\n",
       "    </tr>\n",
       "    <tr>\n",
       "      <th>2</th>\n",
       "      <td>Rainstorm 2013 Pinot Gris (Willamette Valley)</td>\n",
       "      <td>14.0</td>\n",
       "      <td>87</td>\n",
       "      <td>Rainstorm</td>\n",
       "      <td>Pinot Gris</td>\n",
       "    </tr>\n",
       "    <tr>\n",
       "      <th>3</th>\n",
       "      <td>St. Julian 2013 Reserve Late Harvest Riesling ...</td>\n",
       "      <td>13.0</td>\n",
       "      <td>87</td>\n",
       "      <td>St. Julian</td>\n",
       "      <td>Riesling</td>\n",
       "    </tr>\n",
       "    <tr>\n",
       "      <th>4</th>\n",
       "      <td>Sweet Cheeks 2012 Vintner's Reserve Wild Child...</td>\n",
       "      <td>65.0</td>\n",
       "      <td>87</td>\n",
       "      <td>Sweet Cheeks</td>\n",
       "      <td>Pinot Noir</td>\n",
       "    </tr>\n",
       "  </tbody>\n",
       "</table>\n",
       "</div>"
      ],
      "text/plain": [
       "                                               title  price  points  \\\n",
       "0                  Nicosia 2013 Vulkà Bianco  (Etna)    NaN      87   \n",
       "1      Quinta dos Avidagos 2011 Avidagos Red (Douro)   15.0      87   \n",
       "2      Rainstorm 2013 Pinot Gris (Willamette Valley)   14.0      87   \n",
       "3  St. Julian 2013 Reserve Late Harvest Riesling ...   13.0      87   \n",
       "4  Sweet Cheeks 2012 Vintner's Reserve Wild Child...   65.0      87   \n",
       "\n",
       "                winery         variety  \n",
       "0              Nicosia     White Blend  \n",
       "1  Quinta dos Avidagos  Portuguese Red  \n",
       "2            Rainstorm      Pinot Gris  \n",
       "3           St. Julian        Riesling  \n",
       "4         Sweet Cheeks      Pinot Noir  "
      ]
     },
     "execution_count": 13,
     "metadata": {},
     "output_type": "execute_result"
    }
   ],
   "source": [
    "#Prolific Wines\n",
    "prolific_wineries_df = wine_data.loc[:,[\"title\", \"price\", \"points\", \"winery\", \"variety\"]]\n",
    "prolific_wineries_df.head()"
   ]
  },
  {
   "cell_type": "code",
   "execution_count": 14,
   "metadata": {},
   "outputs": [
    {
     "data": {
      "text/html": [
       "<div>\n",
       "<style scoped>\n",
       "    .dataframe tbody tr th:only-of-type {\n",
       "        vertical-align: middle;\n",
       "    }\n",
       "\n",
       "    .dataframe tbody tr th {\n",
       "        vertical-align: top;\n",
       "    }\n",
       "\n",
       "    .dataframe thead th {\n",
       "        text-align: right;\n",
       "    }\n",
       "</style>\n",
       "<table border=\"1\" class=\"dataframe\">\n",
       "  <thead>\n",
       "    <tr style=\"text-align: right;\">\n",
       "      <th></th>\n",
       "      <th>winery</th>\n",
       "    </tr>\n",
       "  </thead>\n",
       "  <tbody>\n",
       "    <tr>\n",
       "      <th>Wines &amp; Winemakers</th>\n",
       "      <td>222</td>\n",
       "    </tr>\n",
       "    <tr>\n",
       "      <th>Testarossa</th>\n",
       "      <td>218</td>\n",
       "    </tr>\n",
       "    <tr>\n",
       "      <th>DFJ Vinhos</th>\n",
       "      <td>215</td>\n",
       "    </tr>\n",
       "    <tr>\n",
       "      <th>Williams Selyem</th>\n",
       "      <td>211</td>\n",
       "    </tr>\n",
       "    <tr>\n",
       "      <th>Louis Latour</th>\n",
       "      <td>199</td>\n",
       "    </tr>\n",
       "  </tbody>\n",
       "</table>\n",
       "</div>"
      ],
      "text/plain": [
       "                    winery\n",
       "Wines & Winemakers     222\n",
       "Testarossa             218\n",
       "DFJ Vinhos             215\n",
       "Williams Selyem        211\n",
       "Louis Latour           199"
      ]
     },
     "execution_count": 14,
     "metadata": {},
     "output_type": "execute_result"
    }
   ],
   "source": [
    "#List of the most prolific wineries\n",
    "prolific_wineries = pd.DataFrame(prolific_wineries_df.winery.value_counts())\n",
    "prolific_wineries.head()"
   ]
  },
  {
   "cell_type": "code",
   "execution_count": 15,
   "metadata": {},
   "outputs": [
    {
     "data": {
      "text/plain": [
       "87.599"
      ]
     },
     "execution_count": 15,
     "metadata": {},
     "output_type": "execute_result"
    }
   ],
   "source": [
    "#Average Rating of wines at Wines & Winemakers\n",
    "prolific_wineries_ww = prolific_wineries_df.loc[prolific_wineries_df[\"winery\"] == \"Wines & Winemakers\", ['points']]\n",
    "avg_ww_rating = prolific_wineries_ww.points.mean()\n",
    "ww_rating = round(avg_ww_rating,3)\n",
    "ww_rating"
   ]
  },
  {
   "cell_type": "code",
   "execution_count": 16,
   "metadata": {},
   "outputs": [
    {
     "data": {
      "text/plain": [
       "17.502"
      ]
     },
     "execution_count": 16,
     "metadata": {},
     "output_type": "execute_result"
    }
   ],
   "source": [
    "#Average Price of wines at Wines & Winemakers\n",
    "prolific_wineries_ww = prolific_wineries_df.loc[prolific_wineries_df[\"winery\"] == \"Wines & Winemakers\", ['price']]\n",
    "avg_ww_price = prolific_wineries_ww.price.mean()\n",
    "ww_price = round(avg_ww_price,3)\n",
    "ww_price"
   ]
  },
  {
   "cell_type": "code",
   "execution_count": 17,
   "metadata": {},
   "outputs": [
    {
     "ename": "NameError",
     "evalue": "name 'wineries_df' is not defined",
     "output_type": "error",
     "traceback": [
      "\u001b[1;31m---------------------------------------------------------------------------\u001b[0m",
      "\u001b[1;31mNameError\u001b[0m                                 Traceback (most recent call last)",
      "\u001b[1;32m<ipython-input-17-b1eef8546372>\u001b[0m in \u001b[0;36m<module>\u001b[1;34m()\u001b[0m\n\u001b[0;32m      1\u001b[0m \u001b[1;31m#Average rating of wine in original data set\u001b[0m\u001b[1;33m\u001b[0m\u001b[1;33m\u001b[0m\u001b[0m\n\u001b[1;32m----> 2\u001b[1;33m \u001b[0mwine\u001b[0m \u001b[1;33m=\u001b[0m \u001b[0mwineries_df\u001b[0m\u001b[1;33m.\u001b[0m\u001b[0mpoints\u001b[0m\u001b[1;33m.\u001b[0m\u001b[0mmean\u001b[0m\u001b[1;33m(\u001b[0m\u001b[1;33m)\u001b[0m\u001b[1;33m\u001b[0m\u001b[0m\n\u001b[0m\u001b[0;32m      3\u001b[0m \u001b[0mwine_avg_rating\u001b[0m \u001b[1;33m=\u001b[0m \u001b[0mround\u001b[0m\u001b[1;33m(\u001b[0m\u001b[0mwine\u001b[0m\u001b[1;33m,\u001b[0m\u001b[1;36m3\u001b[0m\u001b[1;33m)\u001b[0m\u001b[1;33m\u001b[0m\u001b[0m\n\u001b[0;32m      4\u001b[0m \u001b[0mwine_avg_rating\u001b[0m\u001b[1;33m\u001b[0m\u001b[0m\n",
      "\u001b[1;31mNameError\u001b[0m: name 'wineries_df' is not defined"
     ]
    }
   ],
   "source": [
    "#Average rating of wine in original data set\n",
    "wine = wineries_df.points.mean()\n",
    "wine_avg_rating = round(wine,3)\n",
    "wine_avg_rating"
   ]
  },
  {
   "cell_type": "code",
   "execution_count": null,
   "metadata": {},
   "outputs": [],
   "source": [
    "#Average price of wine in orginial data set\n",
    "wine_price = wineries_df.price.mean()\n",
    "wine_avg_price = round(wine_price,3)\n",
    "wine_avg_price"
   ]
  },
  {
   "cell_type": "code",
   "execution_count": null,
   "metadata": {},
   "outputs": [],
   "source": [
    "#Most variations of wine at Wines & winemakers\n",
    "ww = prolific_wineries_df.loc[prolific_wineries_df[\"winery\"] == \"Wines & Winemakers\", ['variety']]\n",
    "ww_df = pd.DataFrame(ww.variety.value_counts())\n",
    "ww_df"
   ]
  },
  {
   "cell_type": "code",
   "execution_count": null,
   "metadata": {},
   "outputs": [],
   "source": [
    "pr = wineries_df.loc[wineries_df[\"variety\"] == \"Portuguese Red\"]\n",
    "#Average rating of Portuguese Red at Wine & winemakers\n",
    "p_red = pr.points.mean()\n",
    "port_red = round(p_red,3)\n",
    "port_red"
   ]
  },
  {
   "cell_type": "code",
   "execution_count": null,
   "metadata": {},
   "outputs": [],
   "source": [
    "#Average rating of Portuguese Red at Wine \n",
    "pred = pr.price.mean()\n",
    "port_red_avg_price = round(pred,3)\n",
    "port_red_avg_price"
   ]
  },
  {
   "cell_type": "code",
   "execution_count": 117,
   "metadata": {
    "scrolled": true
   },
   "outputs": [
    {
     "data": {
      "text/html": [
       "<div>\n",
       "<style scoped>\n",
       "    .dataframe tbody tr th:only-of-type {\n",
       "        vertical-align: middle;\n",
       "    }\n",
       "\n",
       "    .dataframe tbody tr th {\n",
       "        vertical-align: top;\n",
       "    }\n",
       "\n",
       "    .dataframe thead th {\n",
       "        text-align: right;\n",
       "    }\n",
       "</style>\n",
       "<table border=\"1\" class=\"dataframe\">\n",
       "  <thead>\n",
       "    <tr style=\"text-align: right;\">\n",
       "      <th></th>\n",
       "      <th>country</th>\n",
       "      <th>points</th>\n",
       "      <th>price</th>\n",
       "      <th>value count</th>\n",
       "    </tr>\n",
       "  </thead>\n",
       "  <tbody>\n",
       "    <tr>\n",
       "      <th>0</th>\n",
       "      <td>England</td>\n",
       "      <td>92.05</td>\n",
       "      <td>53.06</td>\n",
       "      <td>20</td>\n",
       "    </tr>\n",
       "    <tr>\n",
       "      <th>1</th>\n",
       "      <td>Austria</td>\n",
       "      <td>90.93</td>\n",
       "      <td>36.04</td>\n",
       "      <td>842</td>\n",
       "    </tr>\n",
       "    <tr>\n",
       "      <th>2</th>\n",
       "      <td>Hungary</td>\n",
       "      <td>90.47</td>\n",
       "      <td>27.68</td>\n",
       "      <td>19</td>\n",
       "    </tr>\n",
       "    <tr>\n",
       "      <th>3</th>\n",
       "      <td>Germany</td>\n",
       "      <td>90.08</td>\n",
       "      <td>44.07</td>\n",
       "      <td>1804</td>\n",
       "    </tr>\n",
       "    <tr>\n",
       "      <th>4</th>\n",
       "      <td>Switzerland</td>\n",
       "      <td>90.00</td>\n",
       "      <td>21.00</td>\n",
       "      <td>1</td>\n",
       "    </tr>\n",
       "    <tr>\n",
       "      <th>5</th>\n",
       "      <td>India</td>\n",
       "      <td>89.50</td>\n",
       "      <td>12.00</td>\n",
       "      <td>2</td>\n",
       "    </tr>\n",
       "    <tr>\n",
       "      <th>6</th>\n",
       "      <td>France</td>\n",
       "      <td>89.15</td>\n",
       "      <td>44.58</td>\n",
       "      <td>4714</td>\n",
       "    </tr>\n",
       "    <tr>\n",
       "      <th>7</th>\n",
       "      <td>Canada</td>\n",
       "      <td>89.08</td>\n",
       "      <td>29.98</td>\n",
       "      <td>95</td>\n",
       "    </tr>\n",
       "    <tr>\n",
       "      <th>8</th>\n",
       "      <td>Luxembourg</td>\n",
       "      <td>88.33</td>\n",
       "      <td>20.67</td>\n",
       "      <td>3</td>\n",
       "    </tr>\n",
       "    <tr>\n",
       "      <th>9</th>\n",
       "      <td>New Zealand</td>\n",
       "      <td>88.15</td>\n",
       "      <td>20.62</td>\n",
       "      <td>714</td>\n",
       "    </tr>\n",
       "  </tbody>\n",
       "</table>\n",
       "</div>"
      ],
      "text/plain": [
       "       country  points  price  value count\n",
       "0      England   92.05  53.06           20\n",
       "1      Austria   90.93  36.04          842\n",
       "2      Hungary   90.47  27.68           19\n",
       "3      Germany   90.08  44.07         1804\n",
       "4  Switzerland   90.00  21.00            1\n",
       "5        India   89.50  12.00            2\n",
       "6       France   89.15  44.58         4714\n",
       "7       Canada   89.08  29.98           95\n",
       "8   Luxembourg   88.33  20.67            3\n",
       "9  New Zealand   88.15  20.62          714"
      ]
     },
     "execution_count": 117,
     "metadata": {},
     "output_type": "execute_result"
    }
   ],
   "source": [
    "# bougiest white wines (by points and price)\n",
    "whites_bougiest = white_data.groupby(['country'])['points', 'price'].mean().round(2)\n",
    "whites_b_sorted = whites_bougiest.sort_values('points', ascending = False)\n",
    "whites_b_sorted = whites_b_sorted.reset_index()\n",
    "whites_b_sorted = whites_b_sorted.head(10)\n",
    "whites_value_counts = pd.DataFrame(white_data['country'].value_counts())\n",
    "whites_value_counts = whites_value_counts.reset_index()\n",
    "whites_value_counts = whites_value_counts.rename(columns={'country':'value count', 'index':'country'})\n",
    "whites_merge = whites_b_sorted.merge(whites_value_counts, on='country')\n",
    "whites_merge"
   ]
  },
  {
   "cell_type": "code",
   "execution_count": 119,
   "metadata": {},
   "outputs": [
    {
     "data": {
      "text/html": [
       "<div>\n",
       "<style scoped>\n",
       "    .dataframe tbody tr th:only-of-type {\n",
       "        vertical-align: middle;\n",
       "    }\n",
       "\n",
       "    .dataframe tbody tr th {\n",
       "        vertical-align: top;\n",
       "    }\n",
       "\n",
       "    .dataframe thead th {\n",
       "        text-align: right;\n",
       "    }\n",
       "</style>\n",
       "<table border=\"1\" class=\"dataframe\">\n",
       "  <thead>\n",
       "    <tr style=\"text-align: right;\">\n",
       "      <th></th>\n",
       "      <th>country</th>\n",
       "      <th>points</th>\n",
       "      <th>price</th>\n",
       "      <th>value count</th>\n",
       "    </tr>\n",
       "  </thead>\n",
       "  <tbody>\n",
       "    <tr>\n",
       "      <th>0</th>\n",
       "      <td>Switzerland</td>\n",
       "      <td>87.50</td>\n",
       "      <td>129.50</td>\n",
       "      <td>4</td>\n",
       "    </tr>\n",
       "    <tr>\n",
       "      <th>1</th>\n",
       "      <td>France</td>\n",
       "      <td>89.41</td>\n",
       "      <td>70.50</td>\n",
       "      <td>2385</td>\n",
       "    </tr>\n",
       "    <tr>\n",
       "      <th>2</th>\n",
       "      <td>England</td>\n",
       "      <td>91.86</td>\n",
       "      <td>50.14</td>\n",
       "      <td>7</td>\n",
       "    </tr>\n",
       "    <tr>\n",
       "      <th>3</th>\n",
       "      <td>Czech Republic</td>\n",
       "      <td>89.00</td>\n",
       "      <td>45.00</td>\n",
       "      <td>2</td>\n",
       "    </tr>\n",
       "    <tr>\n",
       "      <th>4</th>\n",
       "      <td>Italy</td>\n",
       "      <td>88.82</td>\n",
       "      <td>44.47</td>\n",
       "      <td>6045</td>\n",
       "    </tr>\n",
       "    <tr>\n",
       "      <th>5</th>\n",
       "      <td>Mexico</td>\n",
       "      <td>87.60</td>\n",
       "      <td>42.73</td>\n",
       "      <td>15</td>\n",
       "    </tr>\n",
       "    <tr>\n",
       "      <th>6</th>\n",
       "      <td>Serbia</td>\n",
       "      <td>89.00</td>\n",
       "      <td>40.67</td>\n",
       "      <td>3</td>\n",
       "    </tr>\n",
       "    <tr>\n",
       "      <th>7</th>\n",
       "      <td>US</td>\n",
       "      <td>88.88</td>\n",
       "      <td>39.72</td>\n",
       "      <td>15601</td>\n",
       "    </tr>\n",
       "    <tr>\n",
       "      <th>8</th>\n",
       "      <td>Hungary</td>\n",
       "      <td>87.70</td>\n",
       "      <td>38.00</td>\n",
       "      <td>10</td>\n",
       "    </tr>\n",
       "    <tr>\n",
       "      <th>9</th>\n",
       "      <td>Lebanon</td>\n",
       "      <td>87.94</td>\n",
       "      <td>37.19</td>\n",
       "      <td>16</td>\n",
       "    </tr>\n",
       "  </tbody>\n",
       "</table>\n",
       "</div>"
      ],
      "text/plain": [
       "          country  points   price  value count\n",
       "0     Switzerland   87.50  129.50            4\n",
       "1          France   89.41   70.50         2385\n",
       "2         England   91.86   50.14            7\n",
       "3  Czech Republic   89.00   45.00            2\n",
       "4           Italy   88.82   44.47         6045\n",
       "5          Mexico   87.60   42.73           15\n",
       "6          Serbia   89.00   40.67            3\n",
       "7              US   88.88   39.72        15601\n",
       "8         Hungary   87.70   38.00           10\n",
       "9         Lebanon   87.94   37.19           16"
      ]
     },
     "execution_count": 119,
     "metadata": {},
     "output_type": "execute_result"
    }
   ],
   "source": [
    "# bougiest red wines (by points and price)\n",
    "reds_bougiest = red_data.groupby(['country'])['points', 'price'].mean().round(2)\n",
    "reds_b_sorted = reds_bougiest.sort_values('price', ascending = False)\n",
    "reds_b_sorted = reds_b_sorted.reset_index()\n",
    "reds_b_sorted = reds_b_sorted.head(10)\n",
    "reds_value_counts = pd.DataFrame(red_data['country'].value_counts())\n",
    "reds_value_counts = reds_value_counts.reset_index()\n",
    "reds_value_counts = reds_value_counts.rename(columns={'country':'value count', 'index':'country'})\n",
    "reds_merge = reds_b_sorted.merge(reds_value_counts, on='country')\n",
    "reds_merge"
   ]
  },
  {
   "cell_type": "code",
   "execution_count": null,
   "metadata": {},
   "outputs": [],
   "source": [
    "import tweepy\n",
    "                                                \n",
    "from vaderSentiment.vaderSentiment import SentimentIntensityAnalyzer\n",
    "analyzer = SentimentIntensityAnalyzer()                                     \n",
    "from config import (consumer_key, consumer_secret, access_token, access_token_secret)"
   ]
  },
  {
   "cell_type": "code",
   "execution_count": null,
   "metadata": {},
   "outputs": [],
   "source": [
    "auth = tweepy.OAuthHandler(consumer_key, consumer_secret)\n",
    "auth.set_access_token(access_token, access_token_secret)\n",
    "api = tweepy.API(auth, parser=tweepy.parsers.JSONParser())"
   ]
  },
  {
   "cell_type": "code",
   "execution_count": null,
   "metadata": {},
   "outputs": [],
   "source": [
    "both = ['Riesling', 'White Blend', 'Chardonnay', 'Sauvignon Blanc', 'Merlot', 'Sangiovese', 'Red Blend', 'Pinot Noir']\n",
    "\n",
    "df = pd.read_csv('../../gw/Project_1/winemag-data-130k-v2.csv')\n",
    "df = df.drop(columns=['Unnamed: 0'])\n",
    "df = df.dropna(axis=0, how='any')\n",
    "df = df[['points', 'taster', 'twitter handle']]\n",
    "df = df.loc[df['variety'].isin(both)]\n",
    "df.head()"
   ]
  },
  {
   "cell_type": "code",
   "execution_count": null,
   "metadata": {},
   "outputs": [],
   "source": [
    "# find tasters with over 1000 reviews\n",
    "taster_counts = pd.DataFrame(df['taster'].value_counts())\n",
    "taster_counts = taster_counts.reset_index()\n",
    "taster_counts = taster_counts.rename(columns={'taster':'ratings', 'index':'taster'})\n",
    "taster_counts_over_1000 = taster_counts.loc[taster_counts['ratings'] > 1000]\n",
    "tasters = taster_counts_over_1000['taster'].tolist()\n",
    "tasters.sort()"
   ]
  },
  {
   "cell_type": "code",
   "execution_count": null,
   "metadata": {},
   "outputs": [],
   "source": [
    "# find tasters' corresponding twitter handles\n",
    "handle_df = df.set_index('taster')\n",
    "target_users = pd.DataFrame(handle_df.loc[tasters, 'twitter handle'])\n",
    "target_users = target_users['twitter handle'].unique()\n",
    "target_users = pd.Series(target_users).str.replace(u'\\xa0', u'') "
   ]
  },
  {
   "cell_type": "code",
   "execution_count": null,
   "metadata": {},
   "outputs": [],
   "source": [
    "# find averages for tasters with over 1000 reviews\n",
    "ave_ratings = []\n",
    "for taster in tasters:\n",
    "    test_df = df.loc[df['taster'] == taster]\n",
    "    test_rating = test_df['points'].mean()\n",
    "    results_list = {'taster': taster, 'average rating': test_rating}\n",
    "    ave_ratings.append(results_list)\n",
    "ave_ratings_df = pd.DataFrame(ave_ratings).round(3)\n",
    "ave_ratings_df = ave_ratings_df[['taster', 'average rating']]\n",
    "ave_ratings_df['twitter handle'] = target_users\n",
    "ave_ratings_df"
   ]
  },
  {
   "cell_type": "code",
   "execution_count": null,
   "metadata": {},
   "outputs": [],
   "source": [
    "# bar chart for average points per taster\n",
    "x_axis = np.arange(len(tasters))\n",
    "plt.bar(ave_ratings_df['taster'], ave_ratings_df['average rating'])\n",
    "plt.xticks(rotation = 'vertical')\n",
    "plt.title('Average Rating Per Taster')\n",
    "plt.xlabel('Taster')\n",
    "plt.ylabel('Average Rating')\n",
    "plt.show()"
   ]
  },
  {
   "cell_type": "code",
   "execution_count": null,
   "metadata": {},
   "outputs": [],
   "source": [
    "# sentiment analysis\n",
    "overall_compound = []\n",
    "\n",
    "for user in target_users:\n",
    "    compound_list = []\n",
    "    \n",
    "    for x in range(1):\n",
    "        public_tweets = api.user_timeline(user, page = 1)\n",
    "\n",
    "        for tweet in public_tweets:\n",
    "            results = analyzer.polarity_scores(tweet['text'])\n",
    "            compound_list.append(results['compound'])\n",
    "    \n",
    "    compound_results = {'username': user, 'compound': np.mean(compound_list)}\n",
    "    overall_compound.append(compound_results)\n",
    "\n",
    "sentiment_df = pd.DataFrame(overall_compound).round(3)\n",
    "sentiment_df['taster'] = tasters\n",
    "sentiment_df['average rating'] = ave_ratings_df['average rating']\n",
    "sentiment_df = sentiment_df[['taster', 'username', 'compound', 'average rating']]\n",
    "sentiment_df"
   ]
  },
  {
   "cell_type": "code",
   "execution_count": null,
   "metadata": {},
   "outputs": [],
   "source": [
    "#compound vs. average points (scatter)\n",
    "plt.figure(figsize=(10,6))\n",
    "plt.scatter(sentiment_df['compound'], sentiment_df['average rating'])\n",
    "plt.grid()\n",
    "plt.title('Average Rating for Tasters (with over 1000 reviews) Based on Sentiment Analysis')\n",
    "plt.xlabel('Tweet Polarity')\n",
    "plt.ylabel('Average Rating')\n",
    "plt.show()"
   ]
  },
  {
   "cell_type": "code",
   "execution_count": null,
   "metadata": {},
   "outputs": [],
   "source": []
  },
  {
   "cell_type": "code",
   "execution_count": null,
   "metadata": {},
   "outputs": [],
   "source": []
  },
  {
   "cell_type": "code",
   "execution_count": null,
   "metadata": {},
   "outputs": [],
   "source": []
  }
 ],
 "metadata": {
  "kernelspec": {
   "display_name": "Python 3",
   "language": "python",
   "name": "python3"
  },
  "language_info": {
   "codemirror_mode": {
    "name": "ipython",
    "version": 3
   },
   "file_extension": ".py",
   "mimetype": "text/x-python",
   "name": "python",
   "nbconvert_exporter": "python",
   "pygments_lexer": "ipython3",
   "version": "3.6.4"
  }
 },
 "nbformat": 4,
 "nbformat_minor": 2
}
