{
 "cells": [
  {
   "cell_type": "code",
   "execution_count": 7,
   "metadata": {},
   "outputs": [],
   "source": [
    "import pandas as pd\n",
    "import matplotlib.pyplot as plt\n",
    "import numpy as np"
   ]
  },
  {
   "cell_type": "code",
   "execution_count": 34,
   "metadata": {
    "scrolled": true
   },
   "outputs": [
    {
     "data": {
      "text/html": [
       "<div>\n",
       "<style scoped>\n",
       "    .dataframe tbody tr th:only-of-type {\n",
       "        vertical-align: middle;\n",
       "    }\n",
       "\n",
       "    .dataframe tbody tr th {\n",
       "        vertical-align: top;\n",
       "    }\n",
       "\n",
       "    .dataframe thead th {\n",
       "        text-align: right;\n",
       "    }\n",
       "</style>\n",
       "<table border=\"1\" class=\"dataframe\">\n",
       "  <thead>\n",
       "    <tr style=\"text-align: right;\">\n",
       "      <th></th>\n",
       "      <th>points</th>\n",
       "      <th>taster</th>\n",
       "    </tr>\n",
       "  </thead>\n",
       "  <tbody>\n",
       "    <tr>\n",
       "      <th>1</th>\n",
       "      <td>87</td>\n",
       "      <td>Alexander Peartree</td>\n",
       "    </tr>\n",
       "    <tr>\n",
       "      <th>2</th>\n",
       "      <td>87</td>\n",
       "      <td>Matt Kettmann</td>\n",
       "    </tr>\n",
       "    <tr>\n",
       "      <th>3</th>\n",
       "      <td>87</td>\n",
       "      <td>Matt Kettmann</td>\n",
       "    </tr>\n",
       "    <tr>\n",
       "      <th>4</th>\n",
       "      <td>87</td>\n",
       "      <td>Anna Lee C. Iijima</td>\n",
       "    </tr>\n",
       "    <tr>\n",
       "      <th>5</th>\n",
       "      <td>87</td>\n",
       "      <td>Kerin O’Keefe</td>\n",
       "    </tr>\n",
       "  </tbody>\n",
       "</table>\n",
       "</div>"
      ],
      "text/plain": [
       "   points              taster\n",
       "1      87  Alexander Peartree\n",
       "2      87       Matt Kettmann\n",
       "3      87       Matt Kettmann\n",
       "4      87  Anna Lee C. Iijima\n",
       "5      87       Kerin O’Keefe"
      ]
     },
     "execution_count": 34,
     "metadata": {},
     "output_type": "execute_result"
    }
   ],
   "source": [
    "df = pd.read_csv('whites_and_reds.csv')\n",
    "df = df.drop(columns=['Unnamed: 0'])\n",
    "df = df.dropna(axis=0, how='any')\n",
    "df = df[['points', 'taster']]\n",
    "df.head()"
   ]
  },
  {
   "cell_type": "code",
   "execution_count": 33,
   "metadata": {},
   "outputs": [],
   "source": [
    "# find tasters with over 1000 reviews\n",
    "taster_counts = pd.DataFrame(df['taster'].value_counts())\n",
    "taster_counts = taster_counts.reset_index()\n",
    "taster_counts = taster_counts.rename(columns={'taster':'ratings', 'index':'taster'})\n",
    "taster_counts_over_1000 = taster_counts.loc[taster_counts['ratings'] > 1000]\n",
    "tasters = taster_counts_over_1000['taster'].tolist()\n",
    "tasters.sort()"
   ]
  },
  {
   "cell_type": "code",
   "execution_count": 43,
   "metadata": {},
   "outputs": [
    {
     "data": {
      "text/html": [
       "<div>\n",
       "<style scoped>\n",
       "    .dataframe tbody tr th:only-of-type {\n",
       "        vertical-align: middle;\n",
       "    }\n",
       "\n",
       "    .dataframe tbody tr th {\n",
       "        vertical-align: top;\n",
       "    }\n",
       "\n",
       "    .dataframe thead th {\n",
       "        text-align: right;\n",
       "    }\n",
       "</style>\n",
       "<table border=\"1\" class=\"dataframe\">\n",
       "  <thead>\n",
       "    <tr style=\"text-align: right;\">\n",
       "      <th></th>\n",
       "      <th>taster</th>\n",
       "      <th>average rating</th>\n",
       "    </tr>\n",
       "  </thead>\n",
       "  <tbody>\n",
       "    <tr>\n",
       "      <th>0</th>\n",
       "      <td>Anna Lee C. Iijima</td>\n",
       "      <td>88.796</td>\n",
       "    </tr>\n",
       "    <tr>\n",
       "      <th>1</th>\n",
       "      <td>Anne Krebiehl MW</td>\n",
       "      <td>91.202</td>\n",
       "    </tr>\n",
       "    <tr>\n",
       "      <th>2</th>\n",
       "      <td>Jim Gordon</td>\n",
       "      <td>88.433</td>\n",
       "    </tr>\n",
       "    <tr>\n",
       "      <th>3</th>\n",
       "      <td>Joe Czerwinski</td>\n",
       "      <td>88.155</td>\n",
       "    </tr>\n",
       "    <tr>\n",
       "      <th>4</th>\n",
       "      <td>Kerin O’Keefe</td>\n",
       "      <td>88.879</td>\n",
       "    </tr>\n",
       "    <tr>\n",
       "      <th>5</th>\n",
       "      <td>Matt Kettmann</td>\n",
       "      <td>90.237</td>\n",
       "    </tr>\n",
       "    <tr>\n",
       "      <th>6</th>\n",
       "      <td>Michael Schachner</td>\n",
       "      <td>86.518</td>\n",
       "    </tr>\n",
       "    <tr>\n",
       "      <th>7</th>\n",
       "      <td>Paul Gregutt</td>\n",
       "      <td>89.204</td>\n",
       "    </tr>\n",
       "    <tr>\n",
       "      <th>8</th>\n",
       "      <td>Roger Voss</td>\n",
       "      <td>89.231</td>\n",
       "    </tr>\n",
       "    <tr>\n",
       "      <th>9</th>\n",
       "      <td>Sean P. Sullivan</td>\n",
       "      <td>87.915</td>\n",
       "    </tr>\n",
       "    <tr>\n",
       "      <th>10</th>\n",
       "      <td>Virginie Boone</td>\n",
       "      <td>89.385</td>\n",
       "    </tr>\n",
       "  </tbody>\n",
       "</table>\n",
       "</div>"
      ],
      "text/plain": [
       "                taster  average rating\n",
       "0   Anna Lee C. Iijima          88.796\n",
       "1     Anne Krebiehl MW          91.202\n",
       "2           Jim Gordon          88.433\n",
       "3       Joe Czerwinski          88.155\n",
       "4        Kerin O’Keefe          88.879\n",
       "5        Matt Kettmann          90.237\n",
       "6    Michael Schachner          86.518\n",
       "7         Paul Gregutt          89.204\n",
       "8           Roger Voss          89.231\n",
       "9     Sean P. Sullivan          87.915\n",
       "10      Virginie Boone          89.385"
      ]
     },
     "execution_count": 43,
     "metadata": {},
     "output_type": "execute_result"
    }
   ],
   "source": [
    "# find averages for tasters with over 1000 reviews\n",
    "ave_ratings = []\n",
    "for taster in tasters:\n",
    "    test_df = df.loc[df['taster'] == taster]\n",
    "    test_rating = test_df['points'].mean()#.round(3)\n",
    "    results_list = {'taster': taster, 'average rating': test_rating}\n",
    "    ave_ratings.append(results_list)\n",
    "ave_ratings_df = pd.DataFrame(ave_ratings).round(3)\n",
    "ave_ratings_df = ave_ratings_df[['taster', 'average rating']]\n",
    "ave_ratings_df"
   ]
  },
  {
   "cell_type": "code",
   "execution_count": 53,
   "metadata": {},
   "outputs": [
    {
     "data": {
      "image/png": "[encoded data removed]",
      "text/plain": [
       "<matplotlib.figure.Figure at 0x27b65fe17f0>"
      ]
     },
     "metadata": {},
     "output_type": "display_data"
    }
   ],
   "source": [
    "# bar chart for average points per taster\n",
    "x_axis = np.arange(len(tasters))\n",
    "plt.bar(ave_ratings_df['taster'], ave_ratings_df['average rating'])\n",
    "plt.xticks(rotation = 'vertical')\n",
    "plt.title('Average Rating Per Taster')\n",
    "plt.xlabel('Taster')\n",
    "plt.ylabel('Average Rating')\n",
    "plt.show()"
   ]
  },
  {
   "cell_type": "code",
   "execution_count": 11,
   "metadata": {},
   "outputs": [],
   "source": [
    "#sentiment analysis on tasters\n",
    "#get compound points"
   ]
  },
  {
   "cell_type": "code",
   "execution_count": null,
   "metadata": {},
   "outputs": [],
   "source": [
    "#compound vs. average points\n",
    "#scatter"
   ]
  }
 ],
 "metadata": {
  "kernelspec": {
   "display_name": "Python 3",
   "language": "python",
   "name": "python3"
  },
  "language_info": {
   "codemirror_mode": {
    "name": "ipython",
    "version": 3
   },
   "file_extension": ".py",
   "mimetype": "text/x-python",
   "name": "python",
   "nbconvert_exporter": "python",
   "pygments_lexer": "ipython3",
   "version": "3.6.4"
  }
 },
 "nbformat": 4,
 "nbformat_minor": 2
}
