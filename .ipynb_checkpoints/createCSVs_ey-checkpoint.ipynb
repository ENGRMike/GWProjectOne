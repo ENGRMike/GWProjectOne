{
 "cells": [
  {
   "cell_type": "code",
   "execution_count": 1,
   "metadata": {
    "collapsed": true
   },
   "outputs": [],
   "source": [
    "#created separate csv files\n",
    "#ey"
   ]
  },
  {
   "cell_type": "code",
   "execution_count": 2,
   "metadata": {},
   "outputs": [],
   "source": [
    "import pandas as pd"
   ]
  },
  {
   "cell_type": "code",
   "execution_count": 13,
   "metadata": {},
   "outputs": [],
   "source": [
    "df = pd.read_csv('../../gw/Project_1/winemag-data-130k-v2.csv')"
   ]
  },
  {
   "cell_type": "code",
   "execution_count": 14,
   "metadata": {},
   "outputs": [
    {
     "data": {
      "text/html": [
       "<div>\n",
       "<style scoped>\n",
       "    .dataframe tbody tr th:only-of-type {\n",
       "        vertical-align: middle;\n",
       "    }\n",
       "\n",
       "    .dataframe tbody tr th {\n",
       "        vertical-align: top;\n",
       "    }\n",
       "\n",
       "    .dataframe thead th {\n",
       "        text-align: right;\n",
       "    }\n",
       "</style>\n",
       "<table border=\"1\" class=\"dataframe\">\n",
       "  <thead>\n",
       "    <tr style=\"text-align: right;\">\n",
       "      <th></th>\n",
       "      <th>wine</th>\n",
       "      <th>variety</th>\n",
       "      <th>country</th>\n",
       "      <th>points</th>\n",
       "      <th>price</th>\n",
       "      <th>taster</th>\n",
       "      <th>twitter handle</th>\n",
       "    </tr>\n",
       "  </thead>\n",
       "  <tbody>\n",
       "    <tr>\n",
       "      <th>0</th>\n",
       "      <td>Nicosia 2013 Vulkà Bianco  (Etna)</td>\n",
       "      <td>White Blend</td>\n",
       "      <td>Italy</td>\n",
       "      <td>87</td>\n",
       "      <td>NaN</td>\n",
       "      <td>Kerin O’Keefe</td>\n",
       "      <td>@kerinokeefe</td>\n",
       "    </tr>\n",
       "    <tr>\n",
       "      <th>1</th>\n",
       "      <td>Quinta dos Avidagos 2011 Avidagos Red (Douro)</td>\n",
       "      <td>Portuguese Red</td>\n",
       "      <td>Portugal</td>\n",
       "      <td>87</td>\n",
       "      <td>15.0</td>\n",
       "      <td>Roger Voss</td>\n",
       "      <td>@vossroger</td>\n",
       "    </tr>\n",
       "    <tr>\n",
       "      <th>2</th>\n",
       "      <td>Rainstorm 2013 Pinot Gris (Willamette Valley)</td>\n",
       "      <td>Pinot Gris</td>\n",
       "      <td>US</td>\n",
       "      <td>87</td>\n",
       "      <td>14.0</td>\n",
       "      <td>Paul Gregutt</td>\n",
       "      <td>@paulgwine</td>\n",
       "    </tr>\n",
       "    <tr>\n",
       "      <th>3</th>\n",
       "      <td>St. Julian 2013 Reserve Late Harvest Riesling ...</td>\n",
       "      <td>Riesling</td>\n",
       "      <td>US</td>\n",
       "      <td>87</td>\n",
       "      <td>13.0</td>\n",
       "      <td>Alexander Peartree</td>\n",
       "      <td>NaN</td>\n",
       "    </tr>\n",
       "    <tr>\n",
       "      <th>4</th>\n",
       "      <td>Sweet Cheeks 2012 Vintner's Reserve Wild Child...</td>\n",
       "      <td>Pinot Noir</td>\n",
       "      <td>US</td>\n",
       "      <td>87</td>\n",
       "      <td>65.0</td>\n",
       "      <td>Paul Gregutt</td>\n",
       "      <td>@paulgwine</td>\n",
       "    </tr>\n",
       "  </tbody>\n",
       "</table>\n",
       "</div>"
      ],
      "text/plain": [
       "                                                wine         variety  \\\n",
       "0                  Nicosia 2013 Vulkà Bianco  (Etna)     White Blend   \n",
       "1      Quinta dos Avidagos 2011 Avidagos Red (Douro)  Portuguese Red   \n",
       "2      Rainstorm 2013 Pinot Gris (Willamette Valley)      Pinot Gris   \n",
       "3  St. Julian 2013 Reserve Late Harvest Riesling ...        Riesling   \n",
       "4  Sweet Cheeks 2012 Vintner's Reserve Wild Child...      Pinot Noir   \n",
       "\n",
       "    country  points  price              taster twitter handle  \n",
       "0     Italy      87    NaN       Kerin O’Keefe   @kerinokeefe  \n",
       "1  Portugal      87   15.0          Roger Voss     @vossroger  \n",
       "2        US      87   14.0        Paul Gregutt    @paulgwine   \n",
       "3        US      87   13.0  Alexander Peartree            NaN  \n",
       "4        US      87   65.0        Paul Gregutt    @paulgwine   "
      ]
     },
     "execution_count": 14,
     "metadata": {},
     "output_type": "execute_result"
    }
   ],
   "source": [
    "df = df[['title','variety', 'country', 'points', 'price', 'taster_name', 'taster_twitter_handle']]\n",
    "df = df.rename(columns={'title':'wine', 'taster_name':'taster', 'taster_twitter_handle':'twitter handle'})\n",
    "df.dropna(axis=0, how='any')\n",
    "df.head()"
   ]
  },
  {
   "cell_type": "code",
   "execution_count": 15,
   "metadata": {},
   "outputs": [],
   "source": [
    "whites = ['Riesling', 'White Blend', 'Chardonnay', 'Sauvignon Blanc']\n",
    "reds = ['Merlot', 'Sangiovese', 'Red Blend', 'Pinot Noir']\n",
    "both = ['Riesling', 'White Blend', 'Chardonnay', 'Sauvignon Blanc', 'Merlot', 'Sangiovese', 'Red Blend', 'Pinot Noir']"
   ]
  },
  {
   "cell_type": "code",
   "execution_count": 16,
   "metadata": {},
   "outputs": [],
   "source": [
    "whites_df = df.loc[df['variety'].isin(whites)]\n",
    "reds_df = df.loc[df['variety'].isin(reds)]"
   ]
  },
  {
   "cell_type": "code",
   "execution_count": 17,
   "metadata": {},
   "outputs": [],
   "source": [
    "whites_and_reds_df = whites_df.merge(reds_df, how='outer')"
   ]
  },
  {
   "cell_type": "code",
   "execution_count": 18,
   "metadata": {},
   "outputs": [],
   "source": [
    "whites_df.to_csv('whites_only.csv')\n",
    "reds_df.to_csv('reds_only.csv')\n",
    "whites_and_reds_df.to_csv('whites_and_reds.csv')"
   ]
  },
  {
   "cell_type": "code",
   "execution_count": 19,
   "metadata": {},
   "outputs": [],
   "source": [
    "riesling_df = df.loc[df['variety'] == 'Riesling']\n",
    "whiteblend_df = df.loc[df['variety'] == 'White Blend']\n",
    "chardonnay_df = df.loc[df['variety'] == 'Chardonnay']\n",
    "sauvblanc_df = df.loc[df['variety'] == 'Sauvignon Blanc']\n",
    "merlot_df = df.loc[df['variety'] == 'Merlot']\n",
    "sangiovese_df = df.loc[df['variety'] == 'Sangiovese']\n",
    "redblend_df = df.loc[df['variety'] == 'Red Blend']\n",
    "pinotnoir_df = df.loc[df['variety'] == 'Pinot Noir']"
   ]
  },
  {
   "cell_type": "code",
   "execution_count": 20,
   "metadata": {},
   "outputs": [],
   "source": [
    "riesling_df.to_csv('riesling.csv')\n",
    "whiteblend_df.to_csv('whiteblend.csv')\n",
    "chardonnay_df.to_csv('chardonnay.csv')\n",
    "sauvblanc_df.to_csv('sauvignon_blanc.csv')\n",
    "merlot_df.to_csv('merlot.csv')\n",
    "sangiovese_df.to_csv('sangiovese.csv')\n",
    "redblend_df.to_csv('redblend.csv')\n",
    "pinotnoir_df.to_csv('pinotnoir.csv')"
   ]
  },
  {
   "cell_type": "code",
   "execution_count": 10,
   "metadata": {},
   "outputs": [
    {
     "data": {
      "text/html": [
       "<div>\n",
       "<style scoped>\n",
       "    .dataframe tbody tr th:only-of-type {\n",
       "        vertical-align: middle;\n",
       "    }\n",
       "\n",
       "    .dataframe tbody tr th {\n",
       "        vertical-align: top;\n",
       "    }\n",
       "\n",
       "    .dataframe thead th {\n",
       "        text-align: right;\n",
       "    }\n",
       "</style>\n",
       "<table border=\"1\" class=\"dataframe\">\n",
       "  <thead>\n",
       "    <tr style=\"text-align: right;\">\n",
       "      <th></th>\n",
       "      <th>wine</th>\n",
       "      <th>variety</th>\n",
       "      <th>country</th>\n",
       "      <th>points</th>\n",
       "      <th>price</th>\n",
       "      <th>taster</th>\n",
       "    </tr>\n",
       "  </thead>\n",
       "  <tbody>\n",
       "    <tr>\n",
       "      <th>4</th>\n",
       "      <td>Sweet Cheeks 2012 Vintner's Reserve Wild Child...</td>\n",
       "      <td>Pinot Noir</td>\n",
       "      <td>US</td>\n",
       "      <td>87</td>\n",
       "      <td>65.0</td>\n",
       "      <td>Paul Gregutt</td>\n",
       "    </tr>\n",
       "    <tr>\n",
       "      <th>21</th>\n",
       "      <td>Acrobat 2013 Pinot Noir (Oregon)</td>\n",
       "      <td>Pinot Noir</td>\n",
       "      <td>US</td>\n",
       "      <td>87</td>\n",
       "      <td>20.0</td>\n",
       "      <td>Paul Gregutt</td>\n",
       "    </tr>\n",
       "    <tr>\n",
       "      <th>25</th>\n",
       "      <td>Castello di Amorosa 2011 King Ridge Vineyard P...</td>\n",
       "      <td>Pinot Noir</td>\n",
       "      <td>US</td>\n",
       "      <td>87</td>\n",
       "      <td>69.0</td>\n",
       "      <td>Virginie Boone</td>\n",
       "    </tr>\n",
       "    <tr>\n",
       "      <th>35</th>\n",
       "      <td>Erath 2010 Hyland Pinot Noir (McMinnville)</td>\n",
       "      <td>Pinot Noir</td>\n",
       "      <td>US</td>\n",
       "      <td>86</td>\n",
       "      <td>50.0</td>\n",
       "      <td>Paul Gregutt</td>\n",
       "    </tr>\n",
       "    <tr>\n",
       "      <th>41</th>\n",
       "      <td>Hawkins Cellars 2009 Pinot Noir (Willamette Va...</td>\n",
       "      <td>Pinot Noir</td>\n",
       "      <td>US</td>\n",
       "      <td>86</td>\n",
       "      <td>22.0</td>\n",
       "      <td>Paul Gregutt</td>\n",
       "    </tr>\n",
       "  </tbody>\n",
       "</table>\n",
       "</div>"
      ],
      "text/plain": [
       "                                                 wine     variety country  \\\n",
       "4   Sweet Cheeks 2012 Vintner's Reserve Wild Child...  Pinot Noir      US   \n",
       "21                   Acrobat 2013 Pinot Noir (Oregon)  Pinot Noir      US   \n",
       "25  Castello di Amorosa 2011 King Ridge Vineyard P...  Pinot Noir      US   \n",
       "35         Erath 2010 Hyland Pinot Noir (McMinnville)  Pinot Noir      US   \n",
       "41  Hawkins Cellars 2009 Pinot Noir (Willamette Va...  Pinot Noir      US   \n",
       "\n",
       "    points  price          taster  \n",
       "4       87   65.0    Paul Gregutt  \n",
       "21      87   20.0    Paul Gregutt  \n",
       "25      87   69.0  Virginie Boone  \n",
       "35      86   50.0    Paul Gregutt  \n",
       "41      86   22.0    Paul Gregutt  "
      ]
     },
     "execution_count": 10,
     "metadata": {},
     "output_type": "execute_result"
    }
   ],
   "source": [
    "pinotnoir_df.head()"
   ]
  },
  {
   "cell_type": "code",
   "execution_count": null,
   "metadata": {},
   "outputs": [],
   "source": []
  }
 ],
 "metadata": {
  "kernelspec": {
   "display_name": "Python 3",
   "language": "python",
   "name": "python3"
  },
  "language_info": {
   "codemirror_mode": {
    "name": "ipython",
    "version": 3
   },
   "file_extension": ".py",
   "mimetype": "text/x-python",
   "name": "python",
   "nbconvert_exporter": "python",
   "pygments_lexer": "ipython3",
   "version": "3.6.4"
  }
 },
 "nbformat": 4,
 "nbformat_minor": 2
}
